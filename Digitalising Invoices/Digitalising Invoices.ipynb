{
 "cells": [
  {
   "cell_type": "code",
   "execution_count": 1,
   "metadata": {},
   "outputs": [],
   "source": [
    "import pytesseract as pt\n",
    "import cv2\n",
    "pt.pytesseract.tesseract_cmd = r'C:\\Program Files\\Tesseract-OCR\\tesseract.exe'"
   ]
  },
  {
   "cell_type": "code",
   "execution_count": 2,
   "metadata": {},
   "outputs": [],
   "source": [
    "def showit(img):\n",
    "    cv2.imshow(\"Window\",img)\n",
    "    cv2.waitKey()\n",
    "    cv2.destroyAllWindows()\n",
    "    return\n",
    "def imagecapture():\n",
    "    cam=cv2.VideoCapture(0)\n",
    "    ret,img=cam.read()\n",
    "    del(cam)\n",
    "    return img;"
   ]
  },
  {
   "cell_type": "markdown",
   "metadata": {},
   "source": [
    "# Example 1\n",
    "reading a printed invoice"
   ]
  },
  {
   "cell_type": "code",
   "execution_count": 6,
   "metadata": {},
   "outputs": [],
   "source": [
    "image=cv2.imread('invoice 2.jpg',0)\n",
    "st=pt.image_to_string(image)\n",
    "#print(st)"
   ]
  },
  {
   "cell_type": "markdown",
   "metadata": {},
   "source": [
    "# Example 2\n",
    "reading a invoice from webca/device camera"
   ]
  },
  {
   "cell_type": "code",
   "execution_count": 8,
   "metadata": {},
   "outputs": [
    {
     "name": "stdout",
     "output_type": "stream",
     "text": [
      " \n",
      "\f",
      "\n"
     ]
    }
   ],
   "source": [
    "def imagecapture2():\n",
    "    cam=cv2.VideoCapture(0)\n",
    "    while(True):\n",
    "        ret,img=cam.read()\n",
    "        cv2.imshow(\"Window\",img)\n",
    "        if cv2.waitKey(1) & 0xFF == ord('x'):\n",
    "            cv2.destroyAllWindows()\n",
    "            break\n",
    "    del(cam)\n",
    "    return img\n",
    "\n",
    "# reading the image from the camera\n",
    "img=imagecapture2()\n",
    "st=pt.image_to_string(img)\n",
    "print(st)"
   ]
  },
  {
   "cell_type": "code",
   "execution_count": null,
   "metadata": {},
   "outputs": [],
   "source": []
  },
  {
   "cell_type": "code",
   "execution_count": null,
   "metadata": {},
   "outputs": [],
   "source": []
  },
  {
   "cell_type": "code",
   "execution_count": null,
   "metadata": {},
   "outputs": [],
   "source": []
  }
 ],
 "metadata": {
  "kernelspec": {
   "display_name": "Python 3",
   "language": "python",
   "name": "python3"
  },
  "language_info": {
   "codemirror_mode": {
    "name": "ipython",
    "version": 3
   },
   "file_extension": ".py",
   "mimetype": "text/x-python",
   "name": "python",
   "nbconvert_exporter": "python",
   "pygments_lexer": "ipython3",
   "version": "3.8.3"
  }
 },
 "nbformat": 4,
 "nbformat_minor": 4
}
